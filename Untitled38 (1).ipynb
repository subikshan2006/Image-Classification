{
  "cells": [
    {
      "cell_type": "code",
      "execution_count": null,
      "metadata": {
        "id": "-G-hYglhskn3"
      },
      "outputs": [],
      "source": [
        "\n",
        "import torch\n",
        "import torch.nn as nn\n",
        "import torch.optim as optim\n",
        "import torchvision\n",
        "import torchvision.transforms as transforms\n",
        "from torch.utils.data import DataLoader\n",
        "import matplotlib.pyplot as plt\n",
        "import numpy as np\n",
        "from sklearn.metrics import confusion_matrix, classification_report\n",
        "import seaborn as sns\n"
      ]
    },
    {
      "cell_type": "code",
      "execution_count": 4,
      "metadata": {
        "id": "s0D5S8mBsp4Z"
      },
      "outputs": [],
      "source": [
        "## Step 1: Load and Preprocess Data\n",
        "# Define transformations for images\n",
        "transform = transforms.Compose([\n",
        "    transforms.ToTensor(),          # Convert images to tensors\n",
        "    transforms.Normalize((0.5,), (0.5,))  # Normalize images\n",
        "])"
      ]
    },
    {
      "cell_type": "code",
      "execution_count": 5,
      "metadata": {
        "id": "4I_cFD3Hsp6-",
        "colab": {
          "base_uri": "https://localhost:8080/"
        },
        "outputId": "8479dc76-500d-4fe0-8d05-d32d867aaf05"
      },
      "outputs": [
        {
          "output_type": "stream",
          "name": "stderr",
          "text": [
            "100%|██████████| 26.4M/26.4M [00:02<00:00, 9.37MB/s]\n",
            "100%|██████████| 29.5k/29.5k [00:00<00:00, 164kB/s]\n",
            "100%|██████████| 4.42M/4.42M [00:01<00:00, 3.10MB/s]\n",
            "100%|██████████| 5.15k/5.15k [00:00<00:00, 23.7MB/s]\n"
          ]
        }
      ],
      "source": [
        "train_dataset = torchvision.datasets.FashionMNIST(root=\"./data\", train=True, transform=transform, download=True)\n",
        "test_dataset = torchvision.datasets.FashionMNIST(root=\"./data\", train=False, transform=transform, download=True)\n"
      ]
    },
    {
      "cell_type": "code",
      "execution_count": 6,
      "metadata": {
        "id": "zfnl8E0Wsp-N",
        "colab": {
          "base_uri": "https://localhost:8080/"
        },
        "outputId": "2fbfcc25-632a-4e17-9f56-f1daddc3ad2e"
      },
      "outputs": [
        {
          "output_type": "stream",
          "name": "stdout",
          "text": [
            "torch.Size([1, 28, 28])\n",
            "60000\n"
          ]
        }
      ],
      "source": [
        "# Get the shape of the first image in the training dataset\n",
        "image, label = train_dataset[0]\n",
        "print(image.shape)\n",
        "print(len(train_dataset))"
      ]
    },
    {
      "cell_type": "code",
      "execution_count": 7,
      "metadata": {
        "id": "t8aqzFpPsqAf",
        "colab": {
          "base_uri": "https://localhost:8080/"
        },
        "outputId": "6c598f9b-a115-4c68-eaa3-bcab0bd58a06"
      },
      "outputs": [
        {
          "output_type": "stream",
          "name": "stdout",
          "text": [
            "torch.Size([1, 28, 28])\n",
            "10000\n"
          ]
        }
      ],
      "source": [
        "# Get the shape of the first image in the test dataset\n",
        "image, label = test_dataset[0]\n",
        "print(image.shape)\n",
        "print(len(test_dataset))"
      ]
    },
    {
      "cell_type": "code",
      "execution_count": 8,
      "metadata": {
        "id": "-cXjnMCPsqEC"
      },
      "outputs": [],
      "source": [
        "\n",
        "# Create DataLoader for batch processing\n",
        "train_loader = DataLoader(train_dataset, batch_size=32, shuffle=True)\n",
        "test_loader = DataLoader(test_dataset, batch_size=32, shuffle=False)\n"
      ]
    },
    {
      "cell_type": "code",
      "execution_count": 9,
      "metadata": {
        "id": "b2XBAD14s_Uz"
      },
      "outputs": [],
      "source": [
        "class CNNClassifier(nn.Module):\n",
        "    def __init__(self):\n",
        "        super(CNNClassifier, self).__init__()\n",
        "        self.conv1=nn.Conv2d(in_channels=1,out_channels=32,kernel_size=3,padding=1)\n",
        "        self.conv2=nn.Conv2d(in_channels=32,out_channels=64,kernel_size=3,padding=1)\n",
        "        self.conv3=nn.Conv2d(in_channels=64,out_channels=128,kernel_size=3,padding=1)\n",
        "        self.pool=nn.MaxPool2d(kernel_size=2,stride=2)\n",
        "        self.fc1=nn.Linear(128*3*3,128)\n",
        "        self.fc2=nn.Linear(128,64)\n",
        "        self.fc3=nn.Linear(64,10)\n",
        "\n",
        "    def forward(self, x):\n",
        "        x=self.pool(torch.relu(self.conv1(x)))\n",
        "        x=self.pool(torch.relu(self.conv2(x)))\n",
        "        x=self.pool(torch.relu(self.conv3(x)))\n",
        "        x=x.view(x.size(0),-1)\n",
        "        x=torch.relu(self.fc1(x))\n",
        "        x=torch.relu(self.fc2(x))\n",
        "        x=self.fc3(x)\n",
        "        return x"
      ]
    },
    {
      "cell_type": "code",
      "execution_count": 10,
      "metadata": {
        "id": "j-sHGt64s_W-",
        "colab": {
          "base_uri": "https://localhost:8080/"
        },
        "outputId": "b6df2911-2e29-473b-97f3-f63c131a0e3f"
      },
      "outputs": [
        {
          "output_type": "stream",
          "name": "stdout",
          "text": [
            "Name: subikshan p\n",
            "Register Number: 212223240161\n",
            "----------------------------------------------------------------\n",
            "        Layer (type)               Output Shape         Param #\n",
            "================================================================\n",
            "            Conv2d-1           [-1, 32, 28, 28]             320\n",
            "         MaxPool2d-2           [-1, 32, 14, 14]               0\n",
            "            Conv2d-3           [-1, 64, 14, 14]          18,496\n",
            "         MaxPool2d-4             [-1, 64, 7, 7]               0\n",
            "            Conv2d-5            [-1, 128, 7, 7]          73,856\n",
            "         MaxPool2d-6            [-1, 128, 3, 3]               0\n",
            "            Linear-7                  [-1, 128]         147,584\n",
            "            Linear-8                   [-1, 64]           8,256\n",
            "            Linear-9                   [-1, 10]             650\n",
            "================================================================\n",
            "Total params: 249,162\n",
            "Trainable params: 249,162\n",
            "Non-trainable params: 0\n",
            "----------------------------------------------------------------\n",
            "Input size (MB): 0.00\n",
            "Forward/backward pass size (MB): 0.42\n",
            "Params size (MB): 0.95\n",
            "Estimated Total Size (MB): 1.37\n",
            "----------------------------------------------------------------\n"
          ]
        }
      ],
      "source": [
        "\n",
        "from torchsummary import summary\n",
        "\n",
        "# Initialize model\n",
        "model = CNNClassifier()\n",
        "\n",
        "# Move model to GPU if available\n",
        "if torch.cuda.is_available():\n",
        "    device = torch.device(\"cuda\")\n",
        "    model.to(device)\n",
        "\n",
        "# Print model summary\n",
        "print('Name: subikshan p')\n",
        "print('Register Number: 212223240161')\n",
        "summary(model, input_size=(1, 28, 28))"
      ]
    },
    {
      "cell_type": "code",
      "execution_count": 11,
      "metadata": {
        "id": "zR6FMMVDs_aY"
      },
      "outputs": [],
      "source": [
        "# Initialize the Model, Loss Function, and Optimizer\n",
        "model =CNNClassifier()\n",
        "criterion =nn.CrossEntropyLoss()\n",
        "optimizer =optim.Adam(model.parameters(),lr=0.001)"
      ]
    },
    {
      "cell_type": "code",
      "execution_count": 12,
      "metadata": {
        "id": "YHacTikqs_dQ"
      },
      "outputs": [],
      "source": [
        "# Train the Model\n",
        "def train_model(model, train_loader, num_epochs=3):\n",
        "  for epoch in range(num_epochs):\n",
        "        model.train()\n",
        "        running_loss = 0.0\n",
        "        for images, labels in train_loader:\n",
        "            optimizer.zero_grad()\n",
        "            outputs = model(images)\n",
        "            loss = criterion(outputs, labels)\n",
        "            loss.backward()\n",
        "            optimizer.step()\n",
        "            running_loss += loss.item()\n",
        "\n",
        "        print('Name: subikshan p')\n",
        "        print('Register Number: 212223240161')\n",
        "        print(f'Epoch [{epoch+1}/{num_epochs}], Loss: {running_loss/len(train_loader):.4f}')"
      ]
    },
    {
      "cell_type": "code",
      "execution_count": 13,
      "metadata": {
        "id": "h8ToZMD7s_gK",
        "colab": {
          "base_uri": "https://localhost:8080/"
        },
        "outputId": "bd546b0d-2f72-4dcc-e853-8298ada4845d"
      },
      "outputs": [
        {
          "metadata": {
            "tags": null
          },
          "name": "stdout",
          "output_type": "stream",
          "text": [
            "Name: subikshan p\n",
            "Register Number: 212223240161\n",
            "Epoch [1/3], Loss: 0.4653\n",
            "Name: subikshan p\n",
            "Register Number: 212223240161\n",
            "Epoch [2/3], Loss: 0.2822\n",
            "Name: subikshan p\n",
            "Register Number: 212223240161\n",
            "Epoch [3/3], Loss: 0.2385\n"
          ]
        }
      ],
      "source": [
        "train_model(model, train_loader)"
      ]
    },
    {
      "cell_type": "code",
      "execution_count": 14,
      "metadata": {
        "id": "7oFAYIgJs_j0"
      },
      "outputs": [],
      "source": [
        "## Step 4: Test the Model\n",
        "def test_model(model, test_loader):\n",
        "    model.eval()\n",
        "    correct = 0\n",
        "    total = 0\n",
        "    all_preds = []\n",
        "    all_labels = []\n",
        "\n",
        "    with torch.no_grad():\n",
        "        for images, labels in test_loader:\n",
        "            outputs = model(images)\n",
        "            _, predicted = torch.max(outputs, 1)\n",
        "            total += labels.size(0)\n",
        "            correct += (predicted == labels).sum().item()\n",
        "            all_preds.extend(predicted.cpu().numpy())\n",
        "            all_labels.extend(labels.cpu().numpy())\n",
        "\n",
        "    accuracy = correct / total\n",
        "    print('Name: subikshan p')\n",
        "    print('Register Number: 212223240161')\n",
        "    print(f'Test Accuracy: {accuracy:.4f}')\n",
        "\n",
        "    # Compute confusion matrix\n",
        "    cm = confusion_matrix(all_labels, all_preds)\n",
        "    plt.figure(figsize=(8, 6))\n",
        "    print('Name: subikshan p')\n",
        "    print('Register Number:  212223240161')\n",
        "    sns.heatmap(cm, annot=True, fmt='d', cmap='Blues', xticklabels=test_dataset.classes, yticklabels=test_dataset.classes)\n",
        "    plt.xlabel('Predicted')\n",
        "    plt.xlabel('Predicted')\n",
        "    plt.ylabel('Actual')\n",
        "    plt.title('Confusion Matrix')\n",
        "    plt.show()\n",
        "\n",
        "    # Print classification report\n",
        "    print('Name: subikshan p')\n",
        "    print('Register Number: 212223240161')\n",
        "    print(\"Classification Report:\")\n",
        "    print(classification_report(all_labels, all_preds, target_names=test_dataset.classes))"
      ]
    },
    {
      "cell_type": "code",
      "execution_count": 15,
      "metadata": {
        "id": "m2KKr387tfqc",
        "colab": {
          "base_uri": "https://localhost:8080/",
          "height": 1000
        },
        "outputId": "5fb20adc-31be-4d0c-821a-3ddac4121044"
      },
      "outputs": [
        {
          "output_type": "stream",
          "name": "stdout",
          "text": [
            "Name: subikshan p\n",
            "Register Number: 212223240161\n",
            "Test Accuracy: 0.9057\n",
            "Name: subikshan p\n",
            "Register Number:  212223240161\n"
          ]
        },
        {
          "output_type": "display_data",
          "data": {
            "text/plain": [
              "<Figure size 800x600 with 2 Axes>"
            ],
            "image/png": "[encoded data removed]"
          },
          "metadata": {}
        },
        {
          "output_type": "stream",
          "name": "stdout",
          "text": [
            "Name: subikshan p\n",
            "Register Number: 212223240161\n",
            "Classification Report:\n",
            "              precision    recall  f1-score   support\n",
            "\n",
            " T-shirt/top       0.86      0.86      0.86      1000\n",
            "     Trouser       0.99      0.98      0.99      1000\n",
            "    Pullover       0.90      0.78      0.84      1000\n",
            "       Dress       0.94      0.89      0.92      1000\n",
            "        Coat       0.76      0.93      0.84      1000\n",
            "      Sandal       0.98      0.99      0.98      1000\n",
            "       Shirt       0.74      0.71      0.72      1000\n",
            "     Sneaker       0.95      0.97      0.96      1000\n",
            "         Bag       0.98      0.98      0.98      1000\n",
            "  Ankle boot       0.99      0.96      0.97      1000\n",
            "\n",
            "    accuracy                           0.91     10000\n",
            "   macro avg       0.91      0.91      0.91     10000\n",
            "weighted avg       0.91      0.91      0.91     10000\n",
            "\n"
          ]
        }
      ],
      "source": [
        "\n",
        "# Evaluate the model\n",
        "test_model(model, test_loader)"
      ]
    },
    {
      "cell_type": "code",
      "execution_count": 16,
      "metadata": {
        "id": "HCvKF1Mutfte"
      },
      "outputs": [],
      "source": [
        "\n",
        "## Step 5: Predict on a Single Image\n",
        "import matplotlib.pyplot as plt\n",
        "def predict_image(model, image_index, dataset):\n",
        "    model.eval()\n",
        "    image, label = dataset[image_index]\n",
        "    with torch.no_grad():\n",
        "        output = model(image.unsqueeze(0))  # Add batch dimension\n",
        "        _, predicted = torch.max(output, 1)\n",
        "    class_names = dataset.classes\n",
        "\n",
        "    # Display the image\n",
        "    print('Name: subikshan p')\n",
        "    print('Register Number:  212223240161')\n",
        "    plt.imshow(image.squeeze(), cmap=\"gray\")\n",
        "    plt.title(f'Actual: {class_names[label]}\\nPredicted: {class_names[predicted.item()]}')\n",
        "    plt.axis(\"off\")\n",
        "    plt.show()\n",
        "    print(f'Actual: {class_names[label]}, Predicted: {class_names[predicted.item()]}')\n"
      ]
    },
    {
      "cell_type": "code",
      "execution_count": 17,
      "metadata": {
        "id": "-yhadIhTtfwX",
        "colab": {
          "base_uri": "https://localhost:8080/",
          "height": 501
        },
        "outputId": "0aa2b85b-a8b2-4a90-fa91-d6c8d46e35c0"
      },
      "outputs": [
        {
          "output_type": "stream",
          "name": "stdout",
          "text": [
            "Name: subikshan p\n",
            "Register Number:  212223240161\n"
          ]
        },
        {
          "output_type": "display_data",
          "data": {
            "text/plain": [
              "<Figure size 640x480 with 1 Axes>"
            ],
            "image/png": "[encoded data removed]"
          },
          "metadata": {}
        },
        {
          "output_type": "stream",
          "name": "stdout",
          "text": [
            "Actual: Trouser, Predicted: Trouser\n"
          ]
        }
      ],
      "source": [
        "\n",
        "# Example Prediction\n",
        "predict_image(model, image_index=80, dataset=test_dataset)"
      ]
    },
    {
      "cell_type": "code",
      "execution_count": null,
      "metadata": {
        "id": "RjB_1MQOtlR9"
      },
      "outputs": [],
      "source": []
    },
    {
      "cell_type": "code",
      "execution_count": null,
      "metadata": {
        "id": "FyP8s5b7tlVi"
      },
      "outputs": [],
      "source": []
    }
  ],
  "metadata": {
    "accelerator": "GPU",
    "colab": {
      "gpuType": "T4",
      "provenance": []
    },
    "kernelspec": {
      "display_name": "Python 3",
      "name": "python3"
    },
    "language_info": {
      "name": "python"
    }
  },
  "nbformat": 4,
  "nbformat_minor": 0
}